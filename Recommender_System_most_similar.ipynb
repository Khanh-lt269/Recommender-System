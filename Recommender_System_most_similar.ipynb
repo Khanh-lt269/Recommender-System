{
  "nbformat": 4,
  "nbformat_minor": 0,
  "metadata": {
    "colab": {
      "name": "Recommender_System_most_similar.ipynb",
      "provenance": [],
      "collapsed_sections": []
    },
    "kernelspec": {
      "name": "python3",
      "display_name": "Python 3"
    },
    "language_info": {
      "name": "python"
    }
  },
  "cells": [
    {
      "cell_type": "code",
      "metadata": {
        "id": "QQ7-0cYUVHgu"
      },
      "source": [
        "import pandas as pd\n",
        "import numpy as np\n",
        "from sklearn.metrics.pairwise import cosine_similarity\n",
        "from sklearn.feature_extraction.text import CountVectorizer"
      ],
      "execution_count": null,
      "outputs": []
    },
    {
      "cell_type": "code",
      "metadata": {
        "colab": {
          "base_uri": "https://localhost:8080/",
          "height": 1000
        },
        "id": "VSthxldbazUV",
        "outputId": "d451db2d-dd54-4db8-a550-37a3795c8396"
      },
      "source": [
        "df = pd.read_csv('/content/drive/MyDrive/Training AI/IMDB_Top250Engmovies2_OMDB_Detailed.csv')\n",
        "df"
      ],
      "execution_count": null,
      "outputs": [
        {
          "output_type": "execute_result",
          "data": {
            "text/html": [
              "<div>\n",
              "<style scoped>\n",
              "    .dataframe tbody tr th:only-of-type {\n",
              "        vertical-align: middle;\n",
              "    }\n",
              "\n",
              "    .dataframe tbody tr th {\n",
              "        vertical-align: top;\n",
              "    }\n",
              "\n",
              "    .dataframe thead th {\n",
              "        text-align: right;\n",
              "    }\n",
              "</style>\n",
              "<table border=\"1\" class=\"dataframe\">\n",
              "  <thead>\n",
              "    <tr style=\"text-align: right;\">\n",
              "      <th></th>\n",
              "      <th>Unnamed: 0</th>\n",
              "      <th>Title</th>\n",
              "      <th>Year</th>\n",
              "      <th>Rated</th>\n",
              "      <th>Released</th>\n",
              "      <th>Runtime</th>\n",
              "      <th>Genre</th>\n",
              "      <th>Director</th>\n",
              "      <th>Writer</th>\n",
              "      <th>Actors</th>\n",
              "      <th>Plot</th>\n",
              "      <th>Language</th>\n",
              "      <th>Country</th>\n",
              "      <th>Awards</th>\n",
              "      <th>Poster</th>\n",
              "      <th>Ratings.Source</th>\n",
              "      <th>Ratings.Value</th>\n",
              "      <th>Metascore</th>\n",
              "      <th>imdbRating</th>\n",
              "      <th>imdbVotes</th>\n",
              "      <th>imdbID</th>\n",
              "      <th>Type</th>\n",
              "      <th>tomatoMeter</th>\n",
              "      <th>tomatoImage</th>\n",
              "      <th>tomatoRating</th>\n",
              "      <th>tomatoReviews</th>\n",
              "      <th>tomatoFresh</th>\n",
              "      <th>tomatoRotten</th>\n",
              "      <th>tomatoConsensus</th>\n",
              "      <th>tomatoUserMeter</th>\n",
              "      <th>tomatoUserRating</th>\n",
              "      <th>tomatoUserReviews</th>\n",
              "      <th>tomatoURL</th>\n",
              "      <th>DVD</th>\n",
              "      <th>BoxOffice</th>\n",
              "      <th>Production</th>\n",
              "      <th>Website</th>\n",
              "      <th>Response</th>\n",
              "    </tr>\n",
              "  </thead>\n",
              "  <tbody>\n",
              "    <tr>\n",
              "      <th>0</th>\n",
              "      <td>1</td>\n",
              "      <td>The Shawshank Redemption</td>\n",
              "      <td>1994</td>\n",
              "      <td>R</td>\n",
              "      <td>14 Oct 1994</td>\n",
              "      <td>142 min</td>\n",
              "      <td>Crime, Drama</td>\n",
              "      <td>Frank Darabont</td>\n",
              "      <td>Stephen King (short story \"Rita Hayworth and S...</td>\n",
              "      <td>Tim Robbins, Morgan Freeman, Bob Gunton, Willi...</td>\n",
              "      <td>Two imprisoned men bond over a number of years...</td>\n",
              "      <td>English</td>\n",
              "      <td>USA</td>\n",
              "      <td>Nominated for 7 Oscars. Another 19 wins &amp; 30 n...</td>\n",
              "      <td>https://images-na.ssl-images-amazon.com/images...</td>\n",
              "      <td>Internet Movie Database</td>\n",
              "      <td>9.3/10</td>\n",
              "      <td>80.0</td>\n",
              "      <td>9.3</td>\n",
              "      <td>1,825,626</td>\n",
              "      <td>tt0111161</td>\n",
              "      <td>movie</td>\n",
              "      <td>NaN</td>\n",
              "      <td>NaN</td>\n",
              "      <td>NaN</td>\n",
              "      <td>NaN</td>\n",
              "      <td>NaN</td>\n",
              "      <td>NaN</td>\n",
              "      <td>NaN</td>\n",
              "      <td>NaN</td>\n",
              "      <td>NaN</td>\n",
              "      <td>NaN</td>\n",
              "      <td>http://www.rottentomatoes.com/m/shawshank_rede...</td>\n",
              "      <td>27 Jan 1998</td>\n",
              "      <td>NaN</td>\n",
              "      <td>Columbia Pictures</td>\n",
              "      <td>NaN</td>\n",
              "      <td>True</td>\n",
              "    </tr>\n",
              "    <tr>\n",
              "      <th>1</th>\n",
              "      <td>2</td>\n",
              "      <td>The Godfather</td>\n",
              "      <td>1972</td>\n",
              "      <td>R</td>\n",
              "      <td>24 Mar 1972</td>\n",
              "      <td>175 min</td>\n",
              "      <td>Crime, Drama</td>\n",
              "      <td>Francis Ford Coppola</td>\n",
              "      <td>Mario Puzo (screenplay), Francis Ford Coppola ...</td>\n",
              "      <td>Marlon Brando, Al Pacino, James Caan, Richard ...</td>\n",
              "      <td>The aging patriarch of an organized crime dyna...</td>\n",
              "      <td>English, Italian, Latin</td>\n",
              "      <td>USA</td>\n",
              "      <td>Won 3 Oscars. Another 23 wins &amp; 27 nominations.</td>\n",
              "      <td>https://images-na.ssl-images-amazon.com/images...</td>\n",
              "      <td>Internet Movie Database</td>\n",
              "      <td>9.2/10</td>\n",
              "      <td>100.0</td>\n",
              "      <td>9.2</td>\n",
              "      <td>1,243,444</td>\n",
              "      <td>tt0068646</td>\n",
              "      <td>movie</td>\n",
              "      <td>NaN</td>\n",
              "      <td>NaN</td>\n",
              "      <td>NaN</td>\n",
              "      <td>NaN</td>\n",
              "      <td>NaN</td>\n",
              "      <td>NaN</td>\n",
              "      <td>NaN</td>\n",
              "      <td>NaN</td>\n",
              "      <td>NaN</td>\n",
              "      <td>NaN</td>\n",
              "      <td>http://www.rottentomatoes.com/m/godfather/</td>\n",
              "      <td>09 Oct 2001</td>\n",
              "      <td>NaN</td>\n",
              "      <td>Paramount Pictures</td>\n",
              "      <td>http://www.thegodfather.com</td>\n",
              "      <td>True</td>\n",
              "    </tr>\n",
              "    <tr>\n",
              "      <th>2</th>\n",
              "      <td>3</td>\n",
              "      <td>The Godfather: Part II</td>\n",
              "      <td>1974</td>\n",
              "      <td>R</td>\n",
              "      <td>20 Dec 1974</td>\n",
              "      <td>202 min</td>\n",
              "      <td>Crime, Drama</td>\n",
              "      <td>Francis Ford Coppola</td>\n",
              "      <td>Francis Ford Coppola (screenplay), Mario Puzo ...</td>\n",
              "      <td>Al Pacino, Robert Duvall, Diane Keaton, Robert...</td>\n",
              "      <td>The early life and career of Vito Corleone in ...</td>\n",
              "      <td>English, Italian, Spanish, Latin, Sicilian</td>\n",
              "      <td>USA</td>\n",
              "      <td>Won 6 Oscars. Another 10 wins &amp; 20 nominations.</td>\n",
              "      <td>https://images-na.ssl-images-amazon.com/images...</td>\n",
              "      <td>Internet Movie Database</td>\n",
              "      <td>9.0/10</td>\n",
              "      <td>85.0</td>\n",
              "      <td>9.0</td>\n",
              "      <td>856,870</td>\n",
              "      <td>tt0071562</td>\n",
              "      <td>movie</td>\n",
              "      <td>NaN</td>\n",
              "      <td>NaN</td>\n",
              "      <td>NaN</td>\n",
              "      <td>NaN</td>\n",
              "      <td>NaN</td>\n",
              "      <td>NaN</td>\n",
              "      <td>NaN</td>\n",
              "      <td>NaN</td>\n",
              "      <td>NaN</td>\n",
              "      <td>NaN</td>\n",
              "      <td>http://www.rottentomatoes.com/m/godfather_part...</td>\n",
              "      <td>24 May 2005</td>\n",
              "      <td>NaN</td>\n",
              "      <td>Paramount Pictures</td>\n",
              "      <td>http://www.thegodfather.com/</td>\n",
              "      <td>True</td>\n",
              "    </tr>\n",
              "    <tr>\n",
              "      <th>3</th>\n",
              "      <td>4</td>\n",
              "      <td>The Dark Knight</td>\n",
              "      <td>2008</td>\n",
              "      <td>PG-13</td>\n",
              "      <td>18 Jul 2008</td>\n",
              "      <td>152 min</td>\n",
              "      <td>Action, Crime, Drama</td>\n",
              "      <td>Christopher Nolan</td>\n",
              "      <td>Jonathan Nolan (screenplay), Christopher Nolan...</td>\n",
              "      <td>Christian Bale, Heath Ledger, Aaron Eckhart, M...</td>\n",
              "      <td>When the menace known as the Joker emerges fro...</td>\n",
              "      <td>English, Mandarin</td>\n",
              "      <td>USA, UK</td>\n",
              "      <td>Won 2 Oscars. Another 151 wins &amp; 153 nominations.</td>\n",
              "      <td>https://images-na.ssl-images-amazon.com/images...</td>\n",
              "      <td>Internet Movie Database</td>\n",
              "      <td>9.0/10</td>\n",
              "      <td>82.0</td>\n",
              "      <td>9.0</td>\n",
              "      <td>1,802,351</td>\n",
              "      <td>tt0468569</td>\n",
              "      <td>movie</td>\n",
              "      <td>NaN</td>\n",
              "      <td>NaN</td>\n",
              "      <td>NaN</td>\n",
              "      <td>NaN</td>\n",
              "      <td>NaN</td>\n",
              "      <td>NaN</td>\n",
              "      <td>NaN</td>\n",
              "      <td>NaN</td>\n",
              "      <td>NaN</td>\n",
              "      <td>NaN</td>\n",
              "      <td>http://www.rottentomatoes.com/m/the_dark_knight/</td>\n",
              "      <td>09 Dec 2008</td>\n",
              "      <td>$533,316,061</td>\n",
              "      <td>Warner Bros. Pictures/Legendary</td>\n",
              "      <td>http://thedarkknight.warnerbros.com/</td>\n",
              "      <td>True</td>\n",
              "    </tr>\n",
              "    <tr>\n",
              "      <th>4</th>\n",
              "      <td>5</td>\n",
              "      <td>12 Angry Men</td>\n",
              "      <td>1957</td>\n",
              "      <td>APPROVED</td>\n",
              "      <td>01 Apr 1957</td>\n",
              "      <td>96 min</td>\n",
              "      <td>Crime, Drama</td>\n",
              "      <td>Sidney Lumet</td>\n",
              "      <td>Reginald Rose (story), Reginald Rose (screenplay)</td>\n",
              "      <td>Martin Balsam, John Fiedler, Lee J. Cobb, E.G....</td>\n",
              "      <td>A jury holdout attempts to prevent a miscarria...</td>\n",
              "      <td>English</td>\n",
              "      <td>USA</td>\n",
              "      <td>Nominated for 3 Oscars. Another 16 wins &amp; 8 no...</td>\n",
              "      <td>https://images-na.ssl-images-amazon.com/images...</td>\n",
              "      <td>Internet Movie Database</td>\n",
              "      <td>8.9/10</td>\n",
              "      <td>96.0</td>\n",
              "      <td>8.9</td>\n",
              "      <td>494,215</td>\n",
              "      <td>tt0050083</td>\n",
              "      <td>movie</td>\n",
              "      <td>NaN</td>\n",
              "      <td>NaN</td>\n",
              "      <td>NaN</td>\n",
              "      <td>NaN</td>\n",
              "      <td>NaN</td>\n",
              "      <td>NaN</td>\n",
              "      <td>NaN</td>\n",
              "      <td>NaN</td>\n",
              "      <td>NaN</td>\n",
              "      <td>NaN</td>\n",
              "      <td>http://www.rottentomatoes.com/m/1000013-12_ang...</td>\n",
              "      <td>06 Mar 2001</td>\n",
              "      <td>NaN</td>\n",
              "      <td>Criterion Collection</td>\n",
              "      <td>http://www.criterion.com/films/27871-12-angry-men</td>\n",
              "      <td>True</td>\n",
              "    </tr>\n",
              "    <tr>\n",
              "      <th>...</th>\n",
              "      <td>...</td>\n",
              "      <td>...</td>\n",
              "      <td>...</td>\n",
              "      <td>...</td>\n",
              "      <td>...</td>\n",
              "      <td>...</td>\n",
              "      <td>...</td>\n",
              "      <td>...</td>\n",
              "      <td>...</td>\n",
              "      <td>...</td>\n",
              "      <td>...</td>\n",
              "      <td>...</td>\n",
              "      <td>...</td>\n",
              "      <td>...</td>\n",
              "      <td>...</td>\n",
              "      <td>...</td>\n",
              "      <td>...</td>\n",
              "      <td>...</td>\n",
              "      <td>...</td>\n",
              "      <td>...</td>\n",
              "      <td>...</td>\n",
              "      <td>...</td>\n",
              "      <td>...</td>\n",
              "      <td>...</td>\n",
              "      <td>...</td>\n",
              "      <td>...</td>\n",
              "      <td>...</td>\n",
              "      <td>...</td>\n",
              "      <td>...</td>\n",
              "      <td>...</td>\n",
              "      <td>...</td>\n",
              "      <td>...</td>\n",
              "      <td>...</td>\n",
              "      <td>...</td>\n",
              "      <td>...</td>\n",
              "      <td>...</td>\n",
              "      <td>...</td>\n",
              "      <td>...</td>\n",
              "    </tr>\n",
              "    <tr>\n",
              "      <th>245</th>\n",
              "      <td>246</td>\n",
              "      <td>The Lost Weekend</td>\n",
              "      <td>1945</td>\n",
              "      <td>NOT RATED</td>\n",
              "      <td>01 Jan 1946</td>\n",
              "      <td>101 min</td>\n",
              "      <td>Drama, Film-Noir</td>\n",
              "      <td>Billy Wilder</td>\n",
              "      <td>Charles R. Jackson (from the novel by), Charle...</td>\n",
              "      <td>Ray Milland, Jane Wyman, Phillip Terry, Howard...</td>\n",
              "      <td>The desperate life of a chronic alcoholic is f...</td>\n",
              "      <td>English</td>\n",
              "      <td>USA</td>\n",
              "      <td>Won 4 Oscars. Another 12 wins &amp; 3 nominations.</td>\n",
              "      <td>https://images-na.ssl-images-amazon.com/images...</td>\n",
              "      <td>Internet Movie Database</td>\n",
              "      <td>8.0/10</td>\n",
              "      <td>NaN</td>\n",
              "      <td>8.0</td>\n",
              "      <td>26,834</td>\n",
              "      <td>tt0037884</td>\n",
              "      <td>movie</td>\n",
              "      <td>NaN</td>\n",
              "      <td>NaN</td>\n",
              "      <td>NaN</td>\n",
              "      <td>NaN</td>\n",
              "      <td>NaN</td>\n",
              "      <td>NaN</td>\n",
              "      <td>NaN</td>\n",
              "      <td>NaN</td>\n",
              "      <td>NaN</td>\n",
              "      <td>NaN</td>\n",
              "      <td>http://www.rottentomatoes.com/m/lost_weekend/</td>\n",
              "      <td>06 Feb 2001</td>\n",
              "      <td>NaN</td>\n",
              "      <td>Paramount Pictures</td>\n",
              "      <td>NaN</td>\n",
              "      <td>True</td>\n",
              "    </tr>\n",
              "    <tr>\n",
              "      <th>246</th>\n",
              "      <td>247</td>\n",
              "      <td>Short Term 12</td>\n",
              "      <td>2013</td>\n",
              "      <td>R</td>\n",
              "      <td>23 Aug 2013</td>\n",
              "      <td>96 min</td>\n",
              "      <td>Drama</td>\n",
              "      <td>Destin Daniel Cretton</td>\n",
              "      <td>Destin Daniel Cretton</td>\n",
              "      <td>Brie Larson, John Gallagher Jr., Stephanie Bea...</td>\n",
              "      <td>A 20-something supervising staff member of a r...</td>\n",
              "      <td>English</td>\n",
              "      <td>USA</td>\n",
              "      <td>35 wins &amp; 70 nominations.</td>\n",
              "      <td>https://images-na.ssl-images-amazon.com/images...</td>\n",
              "      <td>Internet Movie Database</td>\n",
              "      <td>8.0/10</td>\n",
              "      <td>82.0</td>\n",
              "      <td>8.0</td>\n",
              "      <td>62,348</td>\n",
              "      <td>tt2370248</td>\n",
              "      <td>movie</td>\n",
              "      <td>NaN</td>\n",
              "      <td>NaN</td>\n",
              "      <td>NaN</td>\n",
              "      <td>NaN</td>\n",
              "      <td>NaN</td>\n",
              "      <td>NaN</td>\n",
              "      <td>NaN</td>\n",
              "      <td>NaN</td>\n",
              "      <td>NaN</td>\n",
              "      <td>NaN</td>\n",
              "      <td>http://www.rottentomatoes.com/m/short_term_12_...</td>\n",
              "      <td>14 Jan 2014</td>\n",
              "      <td>NaN</td>\n",
              "      <td>Cinedigm</td>\n",
              "      <td>http://shortterm12.com</td>\n",
              "      <td>True</td>\n",
              "    </tr>\n",
              "    <tr>\n",
              "      <th>247</th>\n",
              "      <td>248</td>\n",
              "      <td>His Girl Friday</td>\n",
              "      <td>1940</td>\n",
              "      <td>APPROVED</td>\n",
              "      <td>18 Jan 1940</td>\n",
              "      <td>92 min</td>\n",
              "      <td>Comedy, Drama, Romance</td>\n",
              "      <td>Howard Hawks</td>\n",
              "      <td>Charles Lederer (screen play), Ben Hecht (from...</td>\n",
              "      <td>Cary Grant, Rosalind Russell, Ralph Bellamy, G...</td>\n",
              "      <td>A newspaper editor uses every trick in the boo...</td>\n",
              "      <td>English, French</td>\n",
              "      <td>USA</td>\n",
              "      <td>2 wins.</td>\n",
              "      <td>https://images-na.ssl-images-amazon.com/images...</td>\n",
              "      <td>Internet Movie Database</td>\n",
              "      <td>8.0/10</td>\n",
              "      <td>NaN</td>\n",
              "      <td>8.0</td>\n",
              "      <td>43,551</td>\n",
              "      <td>tt0032599</td>\n",
              "      <td>movie</td>\n",
              "      <td>NaN</td>\n",
              "      <td>NaN</td>\n",
              "      <td>NaN</td>\n",
              "      <td>NaN</td>\n",
              "      <td>NaN</td>\n",
              "      <td>NaN</td>\n",
              "      <td>NaN</td>\n",
              "      <td>NaN</td>\n",
              "      <td>NaN</td>\n",
              "      <td>NaN</td>\n",
              "      <td>http://www.rottentomatoes.com/m/his_girl_friday/</td>\n",
              "      <td>28 Dec 2004</td>\n",
              "      <td>NaN</td>\n",
              "      <td>Columbia Pictures</td>\n",
              "      <td>NaN</td>\n",
              "      <td>True</td>\n",
              "    </tr>\n",
              "    <tr>\n",
              "      <th>248</th>\n",
              "      <td>249</td>\n",
              "      <td>The Straight Story</td>\n",
              "      <td>1999</td>\n",
              "      <td>G</td>\n",
              "      <td>03 Nov 1999</td>\n",
              "      <td>112 min</td>\n",
              "      <td>Biography, Drama</td>\n",
              "      <td>David Lynch</td>\n",
              "      <td>John Roach, Mary Sweeney</td>\n",
              "      <td>Sissy Spacek, Jane Galloway Heitz, Joseph A. C...</td>\n",
              "      <td>An old man makes a long journey by lawn-mover ...</td>\n",
              "      <td>English</td>\n",
              "      <td>France, UK, USA</td>\n",
              "      <td>Nominated for 1 Oscar. Another 14 wins &amp; 37 no...</td>\n",
              "      <td>https://images-na.ssl-images-amazon.com/images...</td>\n",
              "      <td>Internet Movie Database</td>\n",
              "      <td>8.0/10</td>\n",
              "      <td>86.0</td>\n",
              "      <td>8.0</td>\n",
              "      <td>67,045</td>\n",
              "      <td>tt0166896</td>\n",
              "      <td>movie</td>\n",
              "      <td>NaN</td>\n",
              "      <td>NaN</td>\n",
              "      <td>NaN</td>\n",
              "      <td>NaN</td>\n",
              "      <td>NaN</td>\n",
              "      <td>NaN</td>\n",
              "      <td>NaN</td>\n",
              "      <td>NaN</td>\n",
              "      <td>NaN</td>\n",
              "      <td>NaN</td>\n",
              "      <td>http://www.rottentomatoes.com/m/straight_story/</td>\n",
              "      <td>07 Nov 2000</td>\n",
              "      <td>NaN</td>\n",
              "      <td>Buena Vista Pictures</td>\n",
              "      <td>http://disney.go.com/DisneyPictures/straightst...</td>\n",
              "      <td>True</td>\n",
              "    </tr>\n",
              "    <tr>\n",
              "      <th>249</th>\n",
              "      <td>250</td>\n",
              "      <td>Slumdog Millionaire</td>\n",
              "      <td>2008</td>\n",
              "      <td>R</td>\n",
              "      <td>25 Dec 2008</td>\n",
              "      <td>120 min</td>\n",
              "      <td>Drama</td>\n",
              "      <td>Danny Boyle, Loveleen Tandan</td>\n",
              "      <td>Simon Beaufoy (screenplay), Vikas Swarup (novel)</td>\n",
              "      <td>Dev Patel, Saurabh Shukla, Anil Kapoor, Raj Zu...</td>\n",
              "      <td>A Mumbai teen reflects on his upbringing in th...</td>\n",
              "      <td>English, Hindi, French</td>\n",
              "      <td>UK, France, USA</td>\n",
              "      <td>Won 8 Oscars. Another 144 wins &amp; 126 nominations.</td>\n",
              "      <td>https://images-na.ssl-images-amazon.com/images...</td>\n",
              "      <td>Internet Movie Database</td>\n",
              "      <td>8.0/10</td>\n",
              "      <td>86.0</td>\n",
              "      <td>8.0</td>\n",
              "      <td>679,975</td>\n",
              "      <td>tt1010048</td>\n",
              "      <td>movie</td>\n",
              "      <td>NaN</td>\n",
              "      <td>NaN</td>\n",
              "      <td>NaN</td>\n",
              "      <td>NaN</td>\n",
              "      <td>NaN</td>\n",
              "      <td>NaN</td>\n",
              "      <td>NaN</td>\n",
              "      <td>NaN</td>\n",
              "      <td>NaN</td>\n",
              "      <td>NaN</td>\n",
              "      <td>http://www.rottentomatoes.com/m/slumdog_millio...</td>\n",
              "      <td>31 Mar 2009</td>\n",
              "      <td>$141,243,551</td>\n",
              "      <td>Fox Searchlight Pictures</td>\n",
              "      <td>http://www.foxsearchlight.com/slumdogmillionaire/</td>\n",
              "      <td>True</td>\n",
              "    </tr>\n",
              "  </tbody>\n",
              "</table>\n",
              "<p>250 rows × 38 columns</p>\n",
              "</div>"
            ],
            "text/plain": [
              "     Unnamed: 0  ... Response\n",
              "0             1  ...     True\n",
              "1             2  ...     True\n",
              "2             3  ...     True\n",
              "3             4  ...     True\n",
              "4             5  ...     True\n",
              "..          ...  ...      ...\n",
              "245         246  ...     True\n",
              "246         247  ...     True\n",
              "247         248  ...     True\n",
              "248         249  ...     True\n",
              "249         250  ...     True\n",
              "\n",
              "[250 rows x 38 columns]"
            ]
          },
          "metadata": {
            "tags": []
          },
          "execution_count": 54
        }
      ]
    },
    {
      "cell_type": "code",
      "metadata": {
        "colab": {
          "base_uri": "https://localhost:8080/",
          "height": 417
        },
        "id": "IrgzfTdpbA5b",
        "outputId": "87b136bd-9189-4c85-f70e-d403a52a4789"
      },
      "source": [
        "df = df[['Title', 'Genre', 'Director', 'Actors','Plot']]\n",
        "df"
      ],
      "execution_count": null,
      "outputs": [
        {
          "output_type": "execute_result",
          "data": {
            "text/html": [
              "<div>\n",
              "<style scoped>\n",
              "    .dataframe tbody tr th:only-of-type {\n",
              "        vertical-align: middle;\n",
              "    }\n",
              "\n",
              "    .dataframe tbody tr th {\n",
              "        vertical-align: top;\n",
              "    }\n",
              "\n",
              "    .dataframe thead th {\n",
              "        text-align: right;\n",
              "    }\n",
              "</style>\n",
              "<table border=\"1\" class=\"dataframe\">\n",
              "  <thead>\n",
              "    <tr style=\"text-align: right;\">\n",
              "      <th></th>\n",
              "      <th>Title</th>\n",
              "      <th>Genre</th>\n",
              "      <th>Director</th>\n",
              "      <th>Actors</th>\n",
              "      <th>Plot</th>\n",
              "    </tr>\n",
              "  </thead>\n",
              "  <tbody>\n",
              "    <tr>\n",
              "      <th>0</th>\n",
              "      <td>The Shawshank Redemption</td>\n",
              "      <td>Crime, Drama</td>\n",
              "      <td>Frank Darabont</td>\n",
              "      <td>Tim Robbins, Morgan Freeman, Bob Gunton, Willi...</td>\n",
              "      <td>Two imprisoned men bond over a number of years...</td>\n",
              "    </tr>\n",
              "    <tr>\n",
              "      <th>1</th>\n",
              "      <td>The Godfather</td>\n",
              "      <td>Crime, Drama</td>\n",
              "      <td>Francis Ford Coppola</td>\n",
              "      <td>Marlon Brando, Al Pacino, James Caan, Richard ...</td>\n",
              "      <td>The aging patriarch of an organized crime dyna...</td>\n",
              "    </tr>\n",
              "    <tr>\n",
              "      <th>2</th>\n",
              "      <td>The Godfather: Part II</td>\n",
              "      <td>Crime, Drama</td>\n",
              "      <td>Francis Ford Coppola</td>\n",
              "      <td>Al Pacino, Robert Duvall, Diane Keaton, Robert...</td>\n",
              "      <td>The early life and career of Vito Corleone in ...</td>\n",
              "    </tr>\n",
              "    <tr>\n",
              "      <th>3</th>\n",
              "      <td>The Dark Knight</td>\n",
              "      <td>Action, Crime, Drama</td>\n",
              "      <td>Christopher Nolan</td>\n",
              "      <td>Christian Bale, Heath Ledger, Aaron Eckhart, M...</td>\n",
              "      <td>When the menace known as the Joker emerges fro...</td>\n",
              "    </tr>\n",
              "    <tr>\n",
              "      <th>4</th>\n",
              "      <td>12 Angry Men</td>\n",
              "      <td>Crime, Drama</td>\n",
              "      <td>Sidney Lumet</td>\n",
              "      <td>Martin Balsam, John Fiedler, Lee J. Cobb, E.G....</td>\n",
              "      <td>A jury holdout attempts to prevent a miscarria...</td>\n",
              "    </tr>\n",
              "    <tr>\n",
              "      <th>...</th>\n",
              "      <td>...</td>\n",
              "      <td>...</td>\n",
              "      <td>...</td>\n",
              "      <td>...</td>\n",
              "      <td>...</td>\n",
              "    </tr>\n",
              "    <tr>\n",
              "      <th>245</th>\n",
              "      <td>The Lost Weekend</td>\n",
              "      <td>Drama, Film-Noir</td>\n",
              "      <td>Billy Wilder</td>\n",
              "      <td>Ray Milland, Jane Wyman, Phillip Terry, Howard...</td>\n",
              "      <td>The desperate life of a chronic alcoholic is f...</td>\n",
              "    </tr>\n",
              "    <tr>\n",
              "      <th>246</th>\n",
              "      <td>Short Term 12</td>\n",
              "      <td>Drama</td>\n",
              "      <td>Destin Daniel Cretton</td>\n",
              "      <td>Brie Larson, John Gallagher Jr., Stephanie Bea...</td>\n",
              "      <td>A 20-something supervising staff member of a r...</td>\n",
              "    </tr>\n",
              "    <tr>\n",
              "      <th>247</th>\n",
              "      <td>His Girl Friday</td>\n",
              "      <td>Comedy, Drama, Romance</td>\n",
              "      <td>Howard Hawks</td>\n",
              "      <td>Cary Grant, Rosalind Russell, Ralph Bellamy, G...</td>\n",
              "      <td>A newspaper editor uses every trick in the boo...</td>\n",
              "    </tr>\n",
              "    <tr>\n",
              "      <th>248</th>\n",
              "      <td>The Straight Story</td>\n",
              "      <td>Biography, Drama</td>\n",
              "      <td>David Lynch</td>\n",
              "      <td>Sissy Spacek, Jane Galloway Heitz, Joseph A. C...</td>\n",
              "      <td>An old man makes a long journey by lawn-mover ...</td>\n",
              "    </tr>\n",
              "    <tr>\n",
              "      <th>249</th>\n",
              "      <td>Slumdog Millionaire</td>\n",
              "      <td>Drama</td>\n",
              "      <td>Danny Boyle, Loveleen Tandan</td>\n",
              "      <td>Dev Patel, Saurabh Shukla, Anil Kapoor, Raj Zu...</td>\n",
              "      <td>A Mumbai teen reflects on his upbringing in th...</td>\n",
              "    </tr>\n",
              "  </tbody>\n",
              "</table>\n",
              "<p>250 rows × 5 columns</p>\n",
              "</div>"
            ],
            "text/plain": [
              "                        Title  ...                                               Plot\n",
              "0    The Shawshank Redemption  ...  Two imprisoned men bond over a number of years...\n",
              "1               The Godfather  ...  The aging patriarch of an organized crime dyna...\n",
              "2      The Godfather: Part II  ...  The early life and career of Vito Corleone in ...\n",
              "3             The Dark Knight  ...  When the menace known as the Joker emerges fro...\n",
              "4                12 Angry Men  ...  A jury holdout attempts to prevent a miscarria...\n",
              "..                        ...  ...                                                ...\n",
              "245          The Lost Weekend  ...  The desperate life of a chronic alcoholic is f...\n",
              "246             Short Term 12  ...  A 20-something supervising staff member of a r...\n",
              "247           His Girl Friday  ...  A newspaper editor uses every trick in the boo...\n",
              "248        The Straight Story  ...  An old man makes a long journey by lawn-mover ...\n",
              "249       Slumdog Millionaire  ...  A Mumbai teen reflects on his upbringing in th...\n",
              "\n",
              "[250 rows x 5 columns]"
            ]
          },
          "metadata": {
            "tags": []
          },
          "execution_count": 55
        }
      ]
    },
    {
      "cell_type": "code",
      "metadata": {
        "colab": {
          "base_uri": "https://localhost:8080/"
        },
        "id": "U316-jCdbrQE",
        "outputId": "66709ee6-3ba6-4754-b817-a8881d8d849a"
      },
      "source": [
        "df.shape"
      ],
      "execution_count": null,
      "outputs": [
        {
          "output_type": "execute_result",
          "data": {
            "text/plain": [
              "(250, 5)"
            ]
          },
          "metadata": {
            "tags": []
          },
          "execution_count": 56
        }
      ]
    },
    {
      "cell_type": "code",
      "metadata": {
        "colab": {
          "base_uri": "https://localhost:8080/"
        },
        "id": "OvgPan39dQyr",
        "outputId": "e8056c25-139e-4602-a65a-34698df9bd74"
      },
      "source": [
        "df['Actors']"
      ],
      "execution_count": null,
      "outputs": [
        {
          "output_type": "execute_result",
          "data": {
            "text/plain": [
              "0      Tim Robbins, Morgan Freeman, Bob Gunton, Willi...\n",
              "1      Marlon Brando, Al Pacino, James Caan, Richard ...\n",
              "2      Al Pacino, Robert Duvall, Diane Keaton, Robert...\n",
              "3      Christian Bale, Heath Ledger, Aaron Eckhart, M...\n",
              "4      Martin Balsam, John Fiedler, Lee J. Cobb, E.G....\n",
              "                             ...                        \n",
              "245    Ray Milland, Jane Wyman, Phillip Terry, Howard...\n",
              "246    Brie Larson, John Gallagher Jr., Stephanie Bea...\n",
              "247    Cary Grant, Rosalind Russell, Ralph Bellamy, G...\n",
              "248    Sissy Spacek, Jane Galloway Heitz, Joseph A. C...\n",
              "249    Dev Patel, Saurabh Shukla, Anil Kapoor, Raj Zu...\n",
              "Name: Actors, Length: 250, dtype: object"
            ]
          },
          "metadata": {
            "tags": []
          },
          "execution_count": 57
        }
      ]
    },
    {
      "cell_type": "code",
      "metadata": {
        "colab": {
          "base_uri": "https://localhost:8080/"
        },
        "id": "4wDgERtrG34j",
        "outputId": "5b9ad336-19a3-44b3-9806-2c2b972320e5"
      },
      "source": [
        "from nltk.stem import WordNetLemmatizer\n",
        "\n",
        "import nltk\n",
        "nltk.download('wordnet')\n",
        "# Init the Wordnet Lemmatizer\n",
        "lem = WordNetLemmatizer()"
      ],
      "execution_count": null,
      "outputs": [
        {
          "output_type": "stream",
          "text": [
            "[nltk_data] Downloading package wordnet to /root/nltk_data...\n",
            "[nltk_data]   Package wordnet is already up-to-date!\n"
          ],
          "name": "stdout"
        }
      ]
    },
    {
      "cell_type": "code",
      "metadata": {
        "id": "mCH0-uCDG8ep"
      },
      "source": [
        "def lem_word(text):\n",
        "    tokens = [lem.lemmatize(word, pos = 'n') for word in text]\n",
        "    tokens = [lem.lemmatize(word, pos = 'v') for word in tokens]\n",
        "    tokens = [lem.lemmatize(word, pos = 'a') for word in tokens]\n",
        "\n",
        "    return tokens\n"
      ],
      "execution_count": null,
      "outputs": []
    },
    {
      "cell_type": "code",
      "metadata": {
        "colab": {
          "base_uri": "https://localhost:8080/"
        },
        "id": "7zM5ljm2bwY8",
        "outputId": "22bc3a2f-708b-4b08-ea2e-c3b93c2f963d"
      },
      "source": [
        "df['splited_Actors'] = df['Actors'].apply(lambda x: x.split(', '))\n",
        "\n",
        "df['splited_Genre'] = df['Genre'].apply(lambda x: x.lower().split(','))\n",
        "\n",
        "df['lower_plot'] = df['Plot'].apply(lambda x: x.lower())\n",
        "\n",
        "df['lower_Director'] = df['Director'].apply(lambda x: x.lower().replace(' ','').split(','))\n",
        "\n",
        "df['cleaned_actors'] = df['Actors'].apply(lambda x: x.lower().replace(' ','').split(','))\n",
        "\n",
        "df['combine'] = df['splited_Genre'] + df['lower_Director'] + df['cleaned_actors'] + df['lower_plot'].apply(lambda x: x.split())\n",
        "\n",
        "df['lemmatize_text'] = df['combine'].apply(lem_word)\n",
        "\n",
        "df['final_words'] = df['lemmatize_text'].apply(lambda x: ' '.join(x))\n",
        "\n",
        "df_final = df[['Title', 'final_words']]"
      ],
      "execution_count": null,
      "outputs": [
        {
          "output_type": "stream",
          "text": [
            "/usr/local/lib/python3.7/dist-packages/ipykernel_launcher.py:1: SettingWithCopyWarning: \n",
            "A value is trying to be set on a copy of a slice from a DataFrame.\n",
            "Try using .loc[row_indexer,col_indexer] = value instead\n",
            "\n",
            "See the caveats in the documentation: https://pandas.pydata.org/pandas-docs/stable/user_guide/indexing.html#returning-a-view-versus-a-copy\n",
            "  \"\"\"Entry point for launching an IPython kernel.\n",
            "/usr/local/lib/python3.7/dist-packages/ipykernel_launcher.py:3: SettingWithCopyWarning: \n",
            "A value is trying to be set on a copy of a slice from a DataFrame.\n",
            "Try using .loc[row_indexer,col_indexer] = value instead\n",
            "\n",
            "See the caveats in the documentation: https://pandas.pydata.org/pandas-docs/stable/user_guide/indexing.html#returning-a-view-versus-a-copy\n",
            "  This is separate from the ipykernel package so we can avoid doing imports until\n",
            "/usr/local/lib/python3.7/dist-packages/ipykernel_launcher.py:5: SettingWithCopyWarning: \n",
            "A value is trying to be set on a copy of a slice from a DataFrame.\n",
            "Try using .loc[row_indexer,col_indexer] = value instead\n",
            "\n",
            "See the caveats in the documentation: https://pandas.pydata.org/pandas-docs/stable/user_guide/indexing.html#returning-a-view-versus-a-copy\n",
            "  \"\"\"\n",
            "/usr/local/lib/python3.7/dist-packages/ipykernel_launcher.py:7: SettingWithCopyWarning: \n",
            "A value is trying to be set on a copy of a slice from a DataFrame.\n",
            "Try using .loc[row_indexer,col_indexer] = value instead\n",
            "\n",
            "See the caveats in the documentation: https://pandas.pydata.org/pandas-docs/stable/user_guide/indexing.html#returning-a-view-versus-a-copy\n",
            "  import sys\n",
            "/usr/local/lib/python3.7/dist-packages/ipykernel_launcher.py:9: SettingWithCopyWarning: \n",
            "A value is trying to be set on a copy of a slice from a DataFrame.\n",
            "Try using .loc[row_indexer,col_indexer] = value instead\n",
            "\n",
            "See the caveats in the documentation: https://pandas.pydata.org/pandas-docs/stable/user_guide/indexing.html#returning-a-view-versus-a-copy\n",
            "  if __name__ == '__main__':\n",
            "/usr/local/lib/python3.7/dist-packages/ipykernel_launcher.py:11: SettingWithCopyWarning: \n",
            "A value is trying to be set on a copy of a slice from a DataFrame.\n",
            "Try using .loc[row_indexer,col_indexer] = value instead\n",
            "\n",
            "See the caveats in the documentation: https://pandas.pydata.org/pandas-docs/stable/user_guide/indexing.html#returning-a-view-versus-a-copy\n",
            "  # This is added back by InteractiveShellApp.init_path()\n",
            "/usr/local/lib/python3.7/dist-packages/ipykernel_launcher.py:13: SettingWithCopyWarning: \n",
            "A value is trying to be set on a copy of a slice from a DataFrame.\n",
            "Try using .loc[row_indexer,col_indexer] = value instead\n",
            "\n",
            "See the caveats in the documentation: https://pandas.pydata.org/pandas-docs/stable/user_guide/indexing.html#returning-a-view-versus-a-copy\n",
            "  del sys.path[0]\n",
            "/usr/local/lib/python3.7/dist-packages/ipykernel_launcher.py:15: SettingWithCopyWarning: \n",
            "A value is trying to be set on a copy of a slice from a DataFrame.\n",
            "Try using .loc[row_indexer,col_indexer] = value instead\n",
            "\n",
            "See the caveats in the documentation: https://pandas.pydata.org/pandas-docs/stable/user_guide/indexing.html#returning-a-view-versus-a-copy\n",
            "  from ipykernel import kernelapp as app\n"
          ],
          "name": "stderr"
        }
      ]
    },
    {
      "cell_type": "code",
      "metadata": {
        "colab": {
          "base_uri": "https://localhost:8080/",
          "height": 518
        },
        "id": "8VyvQp96EHIK",
        "outputId": "1ded2848-f09f-4e75-d663-662aeb48c7ab"
      },
      "source": [
        "df_final['count_words'] = df['final_words'].apply(lambda x: len(x.split()))\n",
        "df_final"
      ],
      "execution_count": null,
      "outputs": [
        {
          "output_type": "stream",
          "text": [
            "/usr/local/lib/python3.7/dist-packages/ipykernel_launcher.py:1: SettingWithCopyWarning: \n",
            "A value is trying to be set on a copy of a slice from a DataFrame.\n",
            "Try using .loc[row_indexer,col_indexer] = value instead\n",
            "\n",
            "See the caveats in the documentation: https://pandas.pydata.org/pandas-docs/stable/user_guide/indexing.html#returning-a-view-versus-a-copy\n",
            "  \"\"\"Entry point for launching an IPython kernel.\n"
          ],
          "name": "stderr"
        },
        {
          "output_type": "execute_result",
          "data": {
            "text/html": [
              "<div>\n",
              "<style scoped>\n",
              "    .dataframe tbody tr th:only-of-type {\n",
              "        vertical-align: middle;\n",
              "    }\n",
              "\n",
              "    .dataframe tbody tr th {\n",
              "        vertical-align: top;\n",
              "    }\n",
              "\n",
              "    .dataframe thead th {\n",
              "        text-align: right;\n",
              "    }\n",
              "</style>\n",
              "<table border=\"1\" class=\"dataframe\">\n",
              "  <thead>\n",
              "    <tr style=\"text-align: right;\">\n",
              "      <th></th>\n",
              "      <th>Title</th>\n",
              "      <th>final_words</th>\n",
              "      <th>count_words</th>\n",
              "    </tr>\n",
              "  </thead>\n",
              "  <tbody>\n",
              "    <tr>\n",
              "      <th>0</th>\n",
              "      <td>The Shawshank Redemption</td>\n",
              "      <td>crime  drama frankdarabont timrobbins morganfr...</td>\n",
              "      <td>26</td>\n",
              "    </tr>\n",
              "    <tr>\n",
              "      <th>1</th>\n",
              "      <td>The Godfather</td>\n",
              "      <td>crime  drama francisfordcoppola marlonbrando a...</td>\n",
              "      <td>25</td>\n",
              "    </tr>\n",
              "    <tr>\n",
              "      <th>2</th>\n",
              "      <td>The Godfather: Part II</td>\n",
              "      <td>crime  drama francisfordcoppola alpacino rober...</td>\n",
              "      <td>35</td>\n",
              "    </tr>\n",
              "    <tr>\n",
              "      <th>3</th>\n",
              "      <td>The Dark Knight</td>\n",
              "      <td>action  crime  drama christophernolan christia...</td>\n",
              "      <td>49</td>\n",
              "    </tr>\n",
              "    <tr>\n",
              "      <th>4</th>\n",
              "      <td>12 Angry Men</td>\n",
              "      <td>crime  drama sidneylumet martinbalsam johnfied...</td>\n",
              "      <td>25</td>\n",
              "    </tr>\n",
              "    <tr>\n",
              "      <th>...</th>\n",
              "      <td>...</td>\n",
              "      <td>...</td>\n",
              "      <td>...</td>\n",
              "    </tr>\n",
              "    <tr>\n",
              "      <th>245</th>\n",
              "      <td>The Lost Weekend</td>\n",
              "      <td>drama  film-noir billywilder raymilland janewy...</td>\n",
              "      <td>21</td>\n",
              "    </tr>\n",
              "    <tr>\n",
              "      <th>246</th>\n",
              "      <td>Short Term 12</td>\n",
              "      <td>drama destindanielcretton brielarson johngalla...</td>\n",
              "      <td>29</td>\n",
              "    </tr>\n",
              "    <tr>\n",
              "      <th>247</th>\n",
              "      <td>His Girl Friday</td>\n",
              "      <td>comedy  drama  romance howardhawks carygrant r...</td>\n",
              "      <td>25</td>\n",
              "    </tr>\n",
              "    <tr>\n",
              "      <th>248</th>\n",
              "      <td>The Straight Story</td>\n",
              "      <td>biography  drama davidlynch sissyspacek janega...</td>\n",
              "      <td>25</td>\n",
              "    </tr>\n",
              "    <tr>\n",
              "      <th>249</th>\n",
              "      <td>Slumdog Millionaire</td>\n",
              "      <td>drama dannyboyle loveleentandan devpatel saura...</td>\n",
              "      <td>34</td>\n",
              "    </tr>\n",
              "  </tbody>\n",
              "</table>\n",
              "<p>250 rows × 3 columns</p>\n",
              "</div>"
            ],
            "text/plain": [
              "                        Title  ... count_words\n",
              "0    The Shawshank Redemption  ...          26\n",
              "1               The Godfather  ...          25\n",
              "2      The Godfather: Part II  ...          35\n",
              "3             The Dark Knight  ...          49\n",
              "4                12 Angry Men  ...          25\n",
              "..                        ...  ...         ...\n",
              "245          The Lost Weekend  ...          21\n",
              "246             Short Term 12  ...          29\n",
              "247           His Girl Friday  ...          25\n",
              "248        The Straight Story  ...          25\n",
              "249       Slumdog Millionaire  ...          34\n",
              "\n",
              "[250 rows x 3 columns]"
            ]
          },
          "metadata": {
            "tags": []
          },
          "execution_count": 61
        }
      ]
    },
    {
      "cell_type": "code",
      "metadata": {
        "colab": {
          "base_uri": "https://localhost:8080/"
        },
        "id": "cbNMH_vc_iOf",
        "outputId": "04904102-7b7c-4682-a56e-3e43bf4a4136"
      },
      "source": [
        "data = df_final['final_words']\n",
        "labels = df_final['Title']\n",
        "data, labels"
      ],
      "execution_count": null,
      "outputs": [
        {
          "output_type": "execute_result",
          "data": {
            "text/plain": [
              "(0      crime  drama frankdarabont timrobbins morganfr...\n",
              " 1      crime  drama francisfordcoppola marlonbrando a...\n",
              " 2      crime  drama francisfordcoppola alpacino rober...\n",
              " 3      action  crime  drama christophernolan christia...\n",
              " 4      crime  drama sidneylumet martinbalsam johnfied...\n",
              "                              ...                        \n",
              " 245    drama  film-noir billywilder raymilland janewy...\n",
              " 246    drama destindanielcretton brielarson johngalla...\n",
              " 247    comedy  drama  romance howardhawks carygrant r...\n",
              " 248    biography  drama davidlynch sissyspacek janega...\n",
              " 249    drama dannyboyle loveleentandan devpatel saura...\n",
              " Name: final_words, Length: 250, dtype: object, 0      The Shawshank Redemption\n",
              " 1                 The Godfather\n",
              " 2        The Godfather: Part II\n",
              " 3               The Dark Knight\n",
              " 4                  12 Angry Men\n",
              "                  ...           \n",
              " 245            The Lost Weekend\n",
              " 246               Short Term 12\n",
              " 247             His Girl Friday\n",
              " 248          The Straight Story\n",
              " 249         Slumdog Millionaire\n",
              " Name: Title, Length: 250, dtype: object)"
            ]
          },
          "metadata": {
            "tags": []
          },
          "execution_count": 62
        }
      ]
    },
    {
      "cell_type": "code",
      "metadata": {
        "colab": {
          "base_uri": "https://localhost:8080/",
          "height": 52
        },
        "id": "K1alyGGIHqVC",
        "outputId": "d49609bc-ed5f-4d82-d807-d2c98c7aae85"
      },
      "source": [
        "data[0]"
      ],
      "execution_count": null,
      "outputs": [
        {
          "output_type": "execute_result",
          "data": {
            "application/vnd.google.colaboratory.intrinsic+json": {
              "type": "string"
            },
            "text/plain": [
              "'crime  drama frankdarabont timrobbins morganfreeman bobgunton williamsadler two imprison men bond over a number of years, find solace and eventual redemption through act of common decency.'"
            ]
          },
          "metadata": {
            "tags": []
          },
          "execution_count": 63
        }
      ]
    },
    {
      "cell_type": "code",
      "metadata": {
        "colab": {
          "base_uri": "https://localhost:8080/"
        },
        "id": "DDtn-h1hALFw",
        "outputId": "90453535-06fa-4f3b-d1a7-9eb9eee1feed"
      },
      "source": [
        "# instantiating and generating the count matrix\n",
        "count = CountVectorizer()\n",
        "count_matrix = count.fit_transform(df_final['final_words'])\n",
        "count_matrix.toarray()"
      ],
      "execution_count": null,
      "outputs": [
        {
          "output_type": "execute_result",
          "data": {
            "text/plain": [
              "array([[0, 0, 0, ..., 0, 0, 0],\n",
              "       [0, 0, 0, ..., 0, 0, 0],\n",
              "       [0, 0, 0, ..., 0, 0, 0],\n",
              "       ...,\n",
              "       [0, 0, 0, ..., 0, 0, 0],\n",
              "       [0, 0, 0, ..., 0, 0, 0],\n",
              "       [0, 0, 0, ..., 0, 0, 0]])"
            ]
          },
          "metadata": {
            "tags": []
          },
          "execution_count": 64
        }
      ]
    },
    {
      "cell_type": "code",
      "metadata": {
        "colab": {
          "base_uri": "https://localhost:8080/"
        },
        "id": "b_DgWp78AW0o",
        "outputId": "97ac7532-238b-4d17-8b0a-7b5078e3e1ce"
      },
      "source": [
        "cos_sim = cosine_similarity(count_matrix, count_matrix)\n",
        "np.round(cos_sim,4), np.round(cos_sim,4).shape"
      ],
      "execution_count": null,
      "outputs": [
        {
          "output_type": "execute_result",
          "data": {
            "text/plain": [
              "(array([[1.    , 0.2381, 0.2054, ..., 0.0385, 0.0364, 0.1521],\n",
              "        [0.2381, 1.    , 0.4313, ..., 0.1768, 0.2004, 0.2795],\n",
              "        [0.2054, 0.4313, 1.    , ..., 0.183 , 0.0865, 0.3376],\n",
              "        ...,\n",
              "        [0.0385, 0.1768, 0.183 , ..., 1.    , 0.1134, 0.1897],\n",
              "        [0.0364, 0.2004, 0.0865, ..., 0.1134, 1.    , 0.0896],\n",
              "        [0.1521, 0.2795, 0.3376, ..., 0.1897, 0.0896, 1.    ]]), (250, 250))"
            ]
          },
          "metadata": {
            "tags": []
          },
          "execution_count": 65
        }
      ]
    },
    {
      "cell_type": "code",
      "metadata": {
        "id": "F5g1FEuyZFGE"
      },
      "source": [
        "# creating a Series for the movie titles so they are associated to an ordered numerical\n",
        "# list I will use later to match the indexes\n",
        "df_final.set_index('Title', inplace = True)\n",
        "indices = pd.Series(df_final.index)\n"
      ],
      "execution_count": null,
      "outputs": []
    },
    {
      "cell_type": "code",
      "metadata": {
        "colab": {
          "base_uri": "https://localhost:8080/"
        },
        "id": "kI-hCRKSa-Zn",
        "outputId": "5d995577-4121-49db-89d3-a6f40785da91"
      },
      "source": [
        "indices[:16]"
      ],
      "execution_count": null,
      "outputs": [
        {
          "output_type": "execute_result",
          "data": {
            "text/plain": [
              "0                              The Shawshank Redemption\n",
              "1                                         The Godfather\n",
              "2                                The Godfather: Part II\n",
              "3                                       The Dark Knight\n",
              "4                                          12 Angry Men\n",
              "5                                      Schindler's List\n",
              "6         The Lord of the Rings: The Return of the King\n",
              "7                                          Pulp Fiction\n",
              "8                                            Fight Club\n",
              "9     The Lord of the Rings: The Fellowship of the Ring\n",
              "10                                         Forrest Gump\n",
              "11       Star Wars: Episode V - The Empire Strikes Back\n",
              "12                                            Inception\n",
              "13                The Lord of the Rings: The Two Towers\n",
              "14                      One Flew Over the Cuckoo's Nest\n",
              "15                                           Goodfellas\n",
              "Name: Title, dtype: object"
            ]
          },
          "metadata": {
            "tags": []
          },
          "execution_count": 67
        }
      ]
    },
    {
      "cell_type": "code",
      "metadata": {
        "id": "Ku-BPZfOBKJq"
      },
      "source": [
        "# function that takes in movie title as input and returns the top 10 recommended movies\n",
        "def recommendations(title, cosine_sim = cos_sim):\n",
        "    \n",
        "    recommended_movies = []\n",
        "    \n",
        "    # gettin the index of the movie that matches the title\n",
        "    idx = indices[indices == title].index[0]\n",
        "\n",
        "    # creating a Series with the similarity scores in descending order\n",
        "    score_series = pd.Series(cosine_sim[idx]).sort_values(ascending = False)\n",
        "\n",
        "    # getting the indexes of the 10 most similar movies\n",
        "    top_10_indexes = list(score_series.iloc[1:11].index)\n",
        "    \n",
        "    # populating the list with the titles of the best 10 matching movies\n",
        "    for i in top_10_indexes:\n",
        "        recommended_movies.append(list(df_final.index)[i])\n",
        "        \n",
        "    return recommended_movies"
      ],
      "execution_count": null,
      "outputs": []
    },
    {
      "cell_type": "code",
      "metadata": {
        "colab": {
          "base_uri": "https://localhost:8080/"
        },
        "id": "y6wxiboAYyR9",
        "outputId": "bc5ab015-bdad-45e2-c809-44c44614b2d5"
      },
      "source": [
        "recommendations(\"The Dark Knight\")"
      ],
      "execution_count": null,
      "outputs": [
        {
          "output_type": "execute_result",
          "data": {
            "text/plain": [
              "['The Dark Knight Rises',\n",
              " \"The King's Speech\",\n",
              " 'Goodfellas',\n",
              " 'Spotlight',\n",
              " 'Batman Begins',\n",
              " 'The Grand Budapest Hotel',\n",
              " 'Kind Hearts and Coronets',\n",
              " 'The Shining',\n",
              " 'The Help',\n",
              " 'Gandhi']"
            ]
          },
          "metadata": {
            "tags": []
          },
          "execution_count": 69
        }
      ]
    },
    {
      "cell_type": "code",
      "metadata": {
        "colab": {
          "base_uri": "https://localhost:8080/"
        },
        "id": "6WNUmmuSgHeo",
        "outputId": "e7caad39-f903-415c-f313-076a99caa145"
      },
      "source": [
        "idx = indices[indices == 'The Godfather'].index[0]\n",
        "idx"
      ],
      "execution_count": null,
      "outputs": [
        {
          "output_type": "execute_result",
          "data": {
            "text/plain": [
              "1"
            ]
          },
          "metadata": {
            "tags": []
          },
          "execution_count": 70
        }
      ]
    },
    {
      "cell_type": "code",
      "metadata": {
        "colab": {
          "base_uri": "https://localhost:8080/"
        },
        "id": "IFmgLwNmgO7I",
        "outputId": "b4565183-20fa-469f-8921-5a911a60fd2b"
      },
      "source": [
        "score_series = pd.Series(cos_sim[idx]).sort_values(ascending = False)\n",
        "score_series"
      ],
      "execution_count": null,
      "outputs": [
        {
          "output_type": "execute_result",
          "data": {
            "text/plain": [
              "1      1.000000\n",
              "2      0.431331\n",
              "128    0.381881\n",
              "15     0.380304\n",
              "3      0.380304\n",
              "         ...   \n",
              "186    0.033408\n",
              "102    0.032827\n",
              "166    0.026958\n",
              "77     0.000000\n",
              "150    0.000000\n",
              "Length: 250, dtype: float64"
            ]
          },
          "metadata": {
            "tags": []
          },
          "execution_count": 71
        }
      ]
    },
    {
      "cell_type": "code",
      "metadata": {
        "colab": {
          "base_uri": "https://localhost:8080/"
        },
        "id": "jGcml7-4gZfQ",
        "outputId": "06a5920f-7ed0-4e07-cf82-9029c2abe542"
      },
      "source": [
        "top_10_indexes = list(score_series.iloc[1:11].index)\n",
        "top_10_indexes"
      ],
      "execution_count": null,
      "outputs": [
        {
          "output_type": "execute_result",
          "data": {
            "text/plain": [
              "[2, 128, 15, 3, 115, 183, 4, 229, 226, 149]"
            ]
          },
          "metadata": {
            "tags": []
          },
          "execution_count": 72
        }
      ]
    },
    {
      "cell_type": "code",
      "metadata": {
        "id": "OQgXSl_4ge5o"
      },
      "source": [
        "recommended_movies = []\n",
        "\n",
        "for i in top_10_indexes:\n",
        "    recommended_movies.append(list(df_final.index)[i])"
      ],
      "execution_count": null,
      "outputs": []
    },
    {
      "cell_type": "code",
      "metadata": {
        "colab": {
          "base_uri": "https://localhost:8080/"
        },
        "id": "DAM54kk5glIQ",
        "outputId": "5572bade-95a8-410d-ec11-daadd54afbca"
      },
      "source": [
        "recommended_movies"
      ],
      "execution_count": null,
      "outputs": [
        {
          "output_type": "execute_result",
          "data": {
            "text/plain": [
              "['The Godfather: Part II',\n",
              " 'Fargo',\n",
              " 'Goodfellas',\n",
              " 'The Dark Knight',\n",
              " 'The Wolf of Wall Street',\n",
              " 'Cat on a Hot Tin Roof',\n",
              " '12 Angry Men',\n",
              " \"The King's Speech\",\n",
              " 'Rope',\n",
              " 'Kind Hearts and Coronets']"
            ]
          },
          "metadata": {
            "tags": []
          },
          "execution_count": 74
        }
      ]
    }
  ]
}